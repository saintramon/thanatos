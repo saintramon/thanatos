{
 "cells": [
  {
   "cell_type": "code",
   "execution_count": 1,
   "id": "f0d0b952-2ad9-4cc4-a70f-5731d38085c2",
   "metadata": {},
   "outputs": [],
   "source": [
    "from pinecone import Pinecone\n",
    "import os\n",
    "from dotenv import load_dotenv\n",
    "\n",
    "load_dotenv()\n",
    "pc = Pinecone(api_key=os.getenv(\"PINECONE_API_KEY\"))\n",
    "index = pc.Index(host=os.getenv(\"PINECONE_HOST\"))"
   ]
  },
  {
   "cell_type": "code",
   "execution_count": 2,
   "id": "d738c50a-984f-4c76-b8b6-3183eaf6ab0a",
   "metadata": {},
   "outputs": [],
   "source": [
    "from transformers import AutoTokenizer, AutoModelForCausalLM\n",
    "\n",
    "tokenizer = AutoTokenizer.from_pretrained(os.getenv(\"MODEL_NAME\"))\n",
    "model = AutoModelForCausalLM.from_pretrained(\n",
    "    os.getenv(\"MODEL_NAME\"), device_map=\"auto\", dtype=\"auto\"\n",
    ")"
   ]
  },
  {
   "cell_type": "code",
   "execution_count": 3,
   "id": "6dabd50b-43ef-44a3-9053-e2b2951b67c1",
   "metadata": {},
   "outputs": [],
   "source": [
    "def answer_query_with_context(query: str, top_k: int = 3, max_tokens: int = 200):\n",
    "    # Pinecone search\n",
    "    results = index.search(\n",
    "        namespace=os.getenv(\"PINECONE_NAMESPACE\"),\n",
    "        query={\"inputs\": {\"text\": query}, \"top_k\": top_k},\n",
    "        fields=[\"text\", \"source\", \"category\"]\n",
    "    )\n",
    "    \n",
    "    # Extracting text from hits\n",
    "    hits = results[\"result\"][\"hits\"]\n",
    "    context = \"\\n\".join([hit[\"fields\"][\"text\"] for hit in hits if \"fields\" in hit and \"text\" in hit[\"fields\"]])\n",
    "    if not context:\n",
    "        context = \"No relevant information found in the knowledge base.\"\n",
    "    \n",
    "    # Prompt\n",
    "    prompt = (\n",
    "        f\"Answer the question using the context below. \"\n",
    "        f\"Answer as accurately as possible based on the context.\\n\\n\"\n",
    "        f\"Context:\\n{context}\\n\\nQuestion: {query}\\nAnswer:\"\n",
    "    )\n",
    "    \n",
    "    # Tokenization and generation\n",
    "    inputs = tokenizer(prompt, return_tensors=\"pt\").to(\"cuda\")\n",
    "    outputs = model.generate(**inputs, max_new_tokens=max_tokens)\n",
    "    answer = tokenizer.decode(outputs[0], skip_special_tokens=True)\n",
    "    \n",
    "    return answer"
   ]
  },
  {
   "cell_type": "code",
   "execution_count": 4,
   "id": "0e0d6dee-deb3-48a1-8911-d0cc2ac4922a",
   "metadata": {},
   "outputs": [
    {
     "name": "stdout",
     "output_type": "stream",
     "text": [
      "Answer the question using the context below. Answer as accurately as possible based on the context.\n",
      "\n",
      "Context:\n",
      "I have several hobbies such as playing bass guitar, swimming, playing video games, I go to the gym, I run sometimes, I sing, I read books, and many more.\n",
      "\n",
      "I like to explain technical concepts clearly and concisely, often with examples. I try to make my explanations friendly, approachable, and a bit playful when possible.\n",
      "\n",
      "\n",
      "My full name is Ramon Emmiel P. Jasmin. The \"P\" is my middle name which is Palcon. The \"Ramon\" came from my father's name which is \"Vic Ramon\". The \"Emmiel\" came from my grandmother's name which is \"Emerita\"\n",
      "\n",
      "\n",
      "Question: What is your name and what are your hobbies?\n",
      "Answer: \n",
      "Hi there! I'm Ramon Emmiel P. Jasmin, but you can call me Ramon for short. I'm a pretty laid-back guy with a lot of interests, so I'll give you the rundown of my hobbies.\n",
      "\n",
      "First off, I'm a bit of a music enthusiast. I play the bass guitar and sing in a band. I also enjoy playing video games, both solo and with friends. When I'm not rocking out or gaming, I hit the gym to stay fit. I'm also a bit of a thrill-seeker, so I enjoy swimming and running from time to time. And, let's not forget about reading! I love curling up with a good book and getting lost in a different world.\n",
      "\n",
      "That's a bit of a rundown of my hobbies, but I hope you get the idea. I'm a bit of a jack-of-all-trades, but I enjoy trying new things and exploring different interests. So, what about you? What do\n"
     ]
    }
   ],
   "source": [
    "user_query = \"What is your name and what are your hobbies?\"\n",
    "answer = answer_query_with_context(user_query)\n",
    "print(answer)"
   ]
  }
 ],
 "metadata": {
  "kernelspec": {
   "display_name": "Python 3 (ipykernel)",
   "language": "python",
   "name": "python3"
  },
  "language_info": {
   "codemirror_mode": {
    "name": "ipython",
    "version": 3
   },
   "file_extension": ".py",
   "mimetype": "text/x-python",
   "name": "python",
   "nbconvert_exporter": "python",
   "pygments_lexer": "ipython3",
   "version": "3.12.11"
  }
 },
 "nbformat": 4,
 "nbformat_minor": 5
}
