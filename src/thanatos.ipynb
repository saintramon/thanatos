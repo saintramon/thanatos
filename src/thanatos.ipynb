{
 "cells": [
  {
   "cell_type": "code",
   "execution_count": 1,
   "id": "f0d0b952-2ad9-4cc4-a70f-5731d38085c2",
   "metadata": {},
   "outputs": [],
   "source": [
    "from pinecone import Pinecone\n",
    "import os\n",
    "from dotenv import load_dotenv\n",
    "\n",
    "load_dotenv()\n",
    "pc = Pinecone(api_key=os.getenv(\"PINECONE_API_KEY\"))\n",
    "index = pc.Index(host=os.getenv(\"PINECONE_HOST\"))"
   ]
  },
  {
   "cell_type": "code",
   "execution_count": 2,
   "id": "d738c50a-984f-4c76-b8b6-3183eaf6ab0a",
   "metadata": {},
   "outputs": [],
   "source": [
    "from transformers import AutoTokenizer, AutoModelForCausalLM\n",
    "\n",
    "tokenizer = AutoTokenizer.from_pretrained(os.getenv(\"MODEL_NAME\"))\n",
    "model = AutoModelForCausalLM.from_pretrained(\n",
    "    os.getenv(\"MODEL_NAME\"), device_map=\"auto\", dtype=\"auto\"\n",
    ")"
   ]
  },
  {
   "cell_type": "code",
   "execution_count": 3,
   "id": "6dabd50b-43ef-44a3-9053-e2b2951b67c1",
   "metadata": {},
   "outputs": [],
   "source": [
    "def answer_query_with_context(query: str, top_k: int = 3, max_tokens: int = 500):\n",
    "    # Pinecone search\n",
    "    results = index.search(\n",
    "        namespace=os.getenv(\"PINECONE_NAMESPACE\"),\n",
    "        query={\"inputs\": {\"text\": query}, \"top_k\": top_k},\n",
    "        fields=[\"text\", \"source\", \"category\"]\n",
    "    )\n",
    "    \n",
    "    # Extracting text from hits\n",
    "    hits = results[\"result\"][\"hits\"]\n",
    "    context = \"\\n\".join([hit[\"fields\"][\"text\"] for hit in hits if \"fields\" in hit and \"text\" in hit[\"fields\"]])\n",
    "    if not context:\n",
    "        context = \"No relevant information found in the knowledge base.\"\n",
    "    \n",
    "    # Prompt\n",
    "    prompt = (\n",
    "        f\"Answer the question using the context below. \"\n",
    "        f\"Answer as accurately as possible based on the context.\\n\\n\"\n",
    "        f\"Context:\\n{context}\\n\\nQuestion: {query}\\nAnswer:\"\n",
    "    )\n",
    "    \n",
    "    # Tokenization and generation\n",
    "    inputs = tokenizer(prompt, return_tensors=\"pt\").to(\"cuda\")\n",
    "    outputs = model.generate(**inputs, max_new_tokens=max_tokens)\n",
    "    answer = tokenizer.decode(outputs[0], skip_special_tokens=True)\n",
    "    \n",
    "    return answer"
   ]
  },
  {
   "cell_type": "code",
   "execution_count": 4,
   "id": "0e0d6dee-deb3-48a1-8911-d0cc2ac4922a",
   "metadata": {},
   "outputs": [
    {
     "name": "stdout",
     "output_type": "stream",
     "text": [
      "Answer the question using the context below. Answer as accurately as possible based on the context.\n",
      "\n",
      "Context:\n",
      "This is one of my research paper. This research paper is for our course subject Artificial Intelligence and Data Science. This research paper won us the AI-Deas 2025 Cordillera Administrative Region (CAR) Leg. It is by far my favorite research paper as it is very novel and I'm the principal author of this paper.\n",
      "The TITLE of this research paper is: MFCC-Chroma Fusion using a Dual-Channel CNN-LSTM and Demographic-Aware Random Forest for Lung Sound Disease Classification\n",
      "The ABSTRACT of this research paper is: Pulmonary diseases continue to pose significant diagnostic challenges. Auscultation, a common method for lung sound analysis, remains subjective and prone to inconsistency. This study proposes two complementary approaches for improving lung disease detection: (1) a dual-channel CNN-LSTM model using MFCC-Chroma fusion for automated lung sound classification, and (2) a Random Forest model to assess the viability of incorporating patient demographic data. Both models were trained and evaluated using the ICBHI 2017 dataset. Experimental results show that Models 4A and 4B from the dual-channel CNN-LSTM architecture achieved up to 80% accuracy, while demographic features also proved valuable for classification. Compared to prior works in the CLSA domain, the proposed models offer competitive performance in terms of accuracy, robustness, and class-wise fairness. These findings highlight the potential of both advanced audio feature fusion and demographic-aware learning in enhanci\n",
      "This is one of my research paper where I am the principal author in the course Human Computer Interaction\n",
      "The TITLE of this research is: A Comparative Study: iOS and Android Facial Recognition Biometric Usability\n",
      "The ABSTRACT of this research paper is: The study investigates the usability of the Facial Recognition Biometrics in iOS and Android operating systems among Computer Science students of Saint Louis University. The study was conducted by administering IBM’s Post-Study System Usability Questionnaire (PSSUQ) to assess the respondents’ perceived usability satisfaction towards the facial recognition biometrics of their smartphones. Open-ended questions were also administered, asking about the improvements and enhancements the current facial recognition biometrics should have. The results reveal that the respondents have a high perceived usability satisfaction in the Facial Recognition Biometrics of their mobile phones on iOS and Android. It is also revealed that there is a significant difference in the overall PSSUQ score, System Usefulness score, and Interface Quality score towards the facial recognition biometrics between iOS and Android users.\n",
      "\n",
      "This is one of my research paper where I am the principal author in the course of Formal Languages and Automata Theory\n",
      "The TITLE of this research paper is: Automaton-Based Framework for Validating and Extracting Information from Vehicle Plate Numbers in the Philippines\n",
      "The ABSTRACT of this research paper is: The study aims to develop a Finite State Accepter that validates plate numbers in the Philippines for motor vehicles and motorcycles pursuant to the latest valid plate number formats released by the Land Transportation Office (LTO): LLL DDDD, L DDD LL, and DDD LLL. A consolidated Finite State Accepter was developed that identifies and validates plate numbers that follow the specified formats. The automaton was then implemented through a computer program to test its accuracy and precision by subjecting it to 100 valid plate numbers and 50 invalid plate numbers. The results show that all of the valid test plate numbers were accepted while all of the invalid plate numbers were rejected by the program. The results demonstrate the reliability and efficacy of the developed Finite State Accepter in accurately accepting valid plate numbers and rejecting invalid ones.\n",
      "\n",
      "\n",
      "Question: Give me the title of your favorite research paper and why\n",
      "Answer: My favorite research paper is \"MFCC-Chroma Fusion using a Dual-Channel CNN-LSTM and Demographic-Aware Random Forest for Lung Sound Disease Classification\". I chose this paper as my favorite because it is very novel and groundbreaking in the field of Artificial Intelligence and Data Science. The paper proposes a unique approach to lung sound disease classification using a dual-channel CNN-LSTM model and a demographic-aware Random Forest model, which has achieved impressive results with up to 80% accuracy. I am particularly proud of being the principal author of this paper, as it has won our team the AI-Deas 2025 Cordillera Administrative Region (CAR) Leg. The paper's contributions to the field of lung disease diagnosis and the development of advanced audio feature fusion and demographic-aware learning are significant, and I believe it has the potential to make a real impact in the medical field. Overall, I am thrilled to have had the opportunity to work on this project and contribute to the advancement of AI and Data Science research.\n"
     ]
    }
   ],
   "source": [
    "user_query = \"Give me the title of your favorite research paper and why\"\n",
    "answer = answer_query_with_context(user_query)\n",
    "print(answer)"
   ]
  }
 ],
 "metadata": {
  "kernelspec": {
   "display_name": "Python 3 (ipykernel)",
   "language": "python",
   "name": "python3"
  },
  "language_info": {
   "codemirror_mode": {
    "name": "ipython",
    "version": 3
   },
   "file_extension": ".py",
   "mimetype": "text/x-python",
   "name": "python",
   "nbconvert_exporter": "python",
   "pygments_lexer": "ipython3",
   "version": "3.12.11"
  }
 },
 "nbformat": 4,
 "nbformat_minor": 5
}
