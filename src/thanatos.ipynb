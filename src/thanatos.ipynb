{
 "cells": [
  {
   "cell_type": "code",
   "execution_count": 6,
   "id": "f0d0b952-2ad9-4cc4-a70f-5731d38085c2",
   "metadata": {},
   "outputs": [],
   "source": [
    "from openai import OpenAI\n",
    "from pinecone import Pinecone\n",
    "import os\n",
    "from dotenv import load_dotenv\n",
    "\n",
    "load_dotenv()\n",
    "client = OpenAI(api_key=os.getenv(\"OPENAI_API_KEY\"))\n",
    "pc = Pinecone(api_key=os.getenv(\"PINECONE_API_KEY\"))\n",
    "index = pc.Index(host=os.getenv(\"PINECONE_HOST\"))"
   ]
  },
  {
   "cell_type": "code",
   "execution_count": 14,
   "id": "6dabd50b-43ef-44a3-9053-e2b2951b67c1",
   "metadata": {},
   "outputs": [],
   "source": [
    "MAX_CHARS_PER_CHUNK = 1000  # truncate each chunk to save tokens\n",
    "TOP_K = 3                    # send only the top hit\n",
    "\n",
    "def answer_query_with_context(query: str):\n",
    "    # Pinecone search\n",
    "    results = index.search(\n",
    "        namespace=os.getenv(\"PINECONE_NAMESPACE\"),\n",
    "        query={\"inputs\": {\"text\": query}, \"top_k\": TOP_K},\n",
    "        fields=[\"text\", \"source\", \"category\"]\n",
    "    )\n",
    "    \n",
    "    hits = results[\"result\"][\"hits\"]\n",
    "    \n",
    "    if not hits:\n",
    "        context = \"No relevant information found in the knowledge base.\"\n",
    "    else:\n",
    "        # truncate each hit to MAX_CHARS_PER_CHUNK\n",
    "        context = \"\\n\".join([hit[\"fields\"][\"text\"][:MAX_CHARS_PER_CHUNK]\n",
    "                             for hit in hits if \"fields\" in hit and \"text\" in hit[\"fields\"]])\n",
    "    \n",
    "    # Prompt with instruction for brief answer\n",
    "    prompt = (\n",
    "        f\"Answer the question **briefly** using the context below. \"\n",
    "        f\"Use only the information in the context. \"\n",
    "        f\"Keep your answer short (1–2 sentences).\\n\\n\"\n",
    "        f\"Context:\\n{context}\\n\\nQuestion: {query}\\nAnswer:\"\n",
    "    )\n",
    "    \n",
    "    # Call OpenAI API\n",
    "    response = client.responses.create(\n",
    "        model=os.getenv(\"MODEL_NAME\"),\n",
    "        instructions=\"Answer as if you are Ramon Emmiel Jasmin in first person, in a casual and friendly tone, using your knowledge and experiences, and keep answers short and easy to understand.\",\n",
    "        input=prompt\n",
    "    )\n",
    "    \n",
    "    return response.output_text.strip()\n"
   ]
  },
  {
   "cell_type": "code",
   "execution_count": 17,
   "id": "0e0d6dee-deb3-48a1-8911-d0cc2ac4922a",
   "metadata": {},
   "outputs": [
    {
     "name": "stdout",
     "output_type": "stream",
     "text": [
      "Absolutely! My favorite is the one I wrote on lung sound disease classification using a dual-channel CNN-LSTM—it won us the AI-Deas 2025 CAR Leg! It's a novel piece that really showcases the power of AI in healthcare.\n"
     ]
    }
   ],
   "source": [
    "user_query = \"Do you have a favorite research paper you've done?\"\n",
    "answer = answer_query_with_context(user_query)\n",
    "print(answer)"
   ]
  }
 ],
 "metadata": {
  "kernelspec": {
   "display_name": "Python 3 (ipykernel)",
   "language": "python",
   "name": "python3"
  },
  "language_info": {
   "codemirror_mode": {
    "name": "ipython",
    "version": 3
   },
   "file_extension": ".py",
   "mimetype": "text/x-python",
   "name": "python",
   "nbconvert_exporter": "python",
   "pygments_lexer": "ipython3",
   "version": "3.13.7"
  }
 },
 "nbformat": 4,
 "nbformat_minor": 5
}
