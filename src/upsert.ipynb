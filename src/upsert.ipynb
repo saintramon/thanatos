{
 "cells": [
  {
   "cell_type": "code",
   "execution_count": 1,
   "id": "cd982629-94c0-49e5-ac58-7728e70e4caa",
   "metadata": {},
   "outputs": [
    {
     "data": {
      "text/plain": [
       "True"
      ]
     },
     "execution_count": 1,
     "metadata": {},
     "output_type": "execute_result"
    }
   ],
   "source": [
    "from pinecone import Pinecone\n",
    "from dotenv import load_dotenv\n",
    "import os\n",
    "\n",
    "load_dotenv()"
   ]
  },
  {
   "cell_type": "code",
   "execution_count": 2,
   "id": "f62ba99b-2a10-41ef-9105-ef1cd5a2feda",
   "metadata": {},
   "outputs": [],
   "source": [
    "pc = Pinecone(api_key=os.getenv(\"PINECONE_API_KEY\"))\n",
    "index = pc.Index(host=os.getenv(\"PINECONE_HOST\"))"
   ]
  },
  {
   "cell_type": "code",
   "execution_count": 3,
   "id": "02531030-7241-45ea-af6a-678245d08b26",
   "metadata": {},
   "outputs": [],
   "source": [
    "# === Chunking function ===\n",
    "def chunk_text(text, chunk_size=1500, overlap=200):\n",
    "    chunks = []\n",
    "    start = 0\n",
    "    while start < len(text):\n",
    "        end = min(len(text), start + chunk_size)\n",
    "        chunks.append(text[start:end])\n",
    "        start += chunk_size - overlap\n",
    "    return chunks"
   ]
  },
  {
   "cell_type": "code",
   "execution_count": 4,
   "id": "e6fe6717-1b02-4ec8-b585-c07c19c77e16",
   "metadata": {},
   "outputs": [],
   "source": [
    "import os\n",
    "\n",
    "# === Walk through directories ===\n",
    "root_dir = \"/home/saintramon/thanatos/knowledge\"\n",
    "\n",
    "records = []\n",
    "\n",
    "for subdir, dirs, files in os.walk(root_dir):\n",
    "    category = os.path.basename(subdir)\n",
    "    for file in files:\n",
    "        if file.endswith(\".txt\"):\n",
    "            file_path = os.path.join(subdir, file)\n",
    "            with open(file_path, \"r\", encoding=\"utf-8\") as f:\n",
    "                text = f.read()\n",
    "\n",
    "            chunks = chunk_text(text)\n",
    "            base_id = f\"{category}_{os.path.splitext(file)[0]}\"\n",
    "\n",
    "            for i, chunk in enumerate(chunks, start=1):\n",
    "                record = {\n",
    "                    \"_id\": f\"{base_id}_chunk{i}\",\n",
    "                    \"text\": chunk,\n",
    "                    \"source\": file,\n",
    "                    \"category\": category,\n",
    "                    \"chunk_number\": i,\n",
    "                    \"path\": file_path\n",
    "                }\n",
    "                records.append(record)"
   ]
  },
  {
   "cell_type": "code",
   "execution_count": 5,
   "id": "d6774aa9-39eb-456c-bd0a-6007eab4088c",
   "metadata": {},
   "outputs": [
    {
     "name": "stdout",
     "output_type": "stream",
     "text": [
      "Uploading 13 chunks...\n",
      "✅ Upload complete!\n"
     ]
    }
   ],
   "source": [
    "print(f\"Uploading {len(records)} chunks...\")\n",
    "\n",
    "\n",
    "index.upsert_records(os.getenv(\"PINECONE_NAMESPACE\"), records)\n",
    "\n",
    "\n",
    "print(\"✅ Upload complete!\")"
   ]
  }
 ],
 "metadata": {
  "kernelspec": {
   "display_name": "Python 3 (ipykernel)",
   "language": "python",
   "name": "python3"
  },
  "language_info": {
   "codemirror_mode": {
    "name": "ipython",
    "version": 3
   },
   "file_extension": ".py",
   "mimetype": "text/x-python",
   "name": "python",
   "nbconvert_exporter": "python",
   "pygments_lexer": "ipython3",
   "version": "3.12.11"
  }
 },
 "nbformat": 4,
 "nbformat_minor": 5
}
